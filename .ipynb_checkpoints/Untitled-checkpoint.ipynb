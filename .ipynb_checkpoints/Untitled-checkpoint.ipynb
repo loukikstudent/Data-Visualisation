{
 "cells": [
  {
   "cell_type": "code",
   "execution_count": 36,
   "metadata": {},
   "outputs": [],
   "source": [
    "import csv\n",
    "import matplotlib as plt"
   ]
  },
  {
   "cell_type": "code",
   "execution_count": 23,
   "metadata": {},
   "outputs": [],
   "source": [
    "with open('Test_data1.csv','r') as csvfile:\n",
    "    spamreader=csv.reader(csvfile,delimiter=',')\n",
    "    sno=[]\n",
    "    label=[]\n",
    "    ass1=[]\n",
    "    ass2=[]\n",
    "    ass3=[]\n",
    "    ass4=[]\n",
    "    ass5=[]\n",
    "    ass6=[]\n",
    "    ass7=[]\n",
    "    for row in spamreader:\n",
    "        sno.append(row[0])\n",
    "        label.append(row[1])\n",
    "        ass1.append(row[2])\n",
    "        ass2.append(row[3])\n",
    "        ass3.append(row[4])\n",
    "        ass4.append(row[5])\n",
    "        ass5.append(row[6])\n",
    "        ass6.append(row[7])\n",
    "        ass7.append(row[8])"
   ]
  },
  {
   "cell_type": "code",
   "execution_count": 32,
   "metadata": {},
   "outputs": [],
   "source": [
    "def dis(a):\n",
    "    temp=[]\n",
    "    for i in a:\n",
    "        if i not in temp:\n",
    "            temp.append(i)\n",
    "    return temp"
   ]
  },
  {
   "cell_type": "code",
   "execution_count": 34,
   "metadata": {},
   "outputs": [],
   "source": [
    "labeld=dis(label)\n",
    "labeld.remove(labeld[0])"
   ]
  },
  {
   "cell_type": "code",
   "execution_count": 35,
   "metadata": {},
   "outputs": [
    {
     "name": "stdout",
     "output_type": "stream",
     "text": [
      "['A', 'B', 'C', 'D', 'E', 'F']\n"
     ]
    }
   ],
   "source": [
    "print (labeld)"
   ]
  },
  {
   "cell_type": "code",
   "execution_count": 37,
   "metadata": {},
   "outputs": [],
   "source": [
    "x=[1,2,3,4,5,6,7]"
   ]
  },
  {
   "cell_type": "code",
   "execution_count": null,
   "metadata": {},
   "outputs": [],
   "source": [
    "la=[]\n",
    "lb=[]\n",
    "lc=[]\n",
    "ld=[]\n",
    "le=[]\n",
    "lf=[]\n",
    "for i in range(len(label)):\n",
    "    temp=[]\n",
    "    if label[i]='A':\n",
    "        temp.append(sno[i])\n",
    "        temp.append(ass1[i])\n",
    "        temp.append(ass2[i])\n",
    "        temp.append(ass3[i])\n",
    "        temp.append(ass4[i])\n",
    "        temp.append(ass5[i])\n",
    "        temp.append(ass6[i])\n",
    "        temp.append(ass7[i])"
   ]
  }
 ],
 "metadata": {
  "kernelspec": {
   "display_name": "Python 3",
   "language": "python",
   "name": "python3"
  },
  "language_info": {
   "codemirror_mode": {
    "name": "ipython",
    "version": 3
   },
   "file_extension": ".py",
   "mimetype": "text/x-python",
   "name": "python",
   "nbconvert_exporter": "python",
   "pygments_lexer": "ipython3",
   "version": "3.7.3"
  }
 },
 "nbformat": 4,
 "nbformat_minor": 2
}
