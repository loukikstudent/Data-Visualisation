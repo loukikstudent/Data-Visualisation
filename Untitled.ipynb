{
 "cells": [
  {
   "cell_type": "code",
   "execution_count": 41,
   "metadata": {},
   "outputs": [],
   "source": [
    "import csv\n",
    "import matplotlib.pyplot as plt"
   ]
  },
  {
   "cell_type": "code",
   "execution_count": 23,
   "metadata": {},
   "outputs": [],
   "source": [
    "with open('Test_data1.csv','r') as csvfile:\n",
    "    spamreader=csv.reader(csvfile,delimiter=',')\n",
    "    sno=[]\n",
    "    label=[]\n",
    "    ass1=[]\n",
    "    ass2=[]\n",
    "    ass3=[]\n",
    "    ass4=[]\n",
    "    ass5=[]\n",
    "    ass6=[]\n",
    "    ass7=[]\n",
    "    for row in spamreader:\n",
    "        sno.append(row[0])\n",
    "        label.append(row[1])\n",
    "        ass1.append(row[2])\n",
    "        ass2.append(row[3])\n",
    "        ass3.append(row[4])\n",
    "        ass4.append(row[5])\n",
    "        ass5.append(row[6])\n",
    "        ass6.append(row[7])\n",
    "        ass7.append(row[8])"
   ]
  },
  {
   "cell_type": "code",
   "execution_count": 32,
   "metadata": {},
   "outputs": [],
   "source": [
    "def dis(a):\n",
    "    temp=[]\n",
    "    for i in a:\n",
    "        if i not in temp:\n",
    "            temp.append(i)\n",
    "    return temp"
   ]
  },
  {
   "cell_type": "code",
   "execution_count": 34,
   "metadata": {},
   "outputs": [],
   "source": [
    "labeld=dis(label)\n",
    "labeld.remove(labeld[0])"
   ]
  },
  {
   "cell_type": "code",
   "execution_count": 35,
   "metadata": {},
   "outputs": [
    {
     "name": "stdout",
     "output_type": "stream",
     "text": [
      "['A', 'B', 'C', 'D', 'E', 'F']\n"
     ]
    }
   ],
   "source": [
    "print (labeld)"
   ]
  },
  {
   "cell_type": "code",
   "execution_count": 37,
   "metadata": {},
   "outputs": [],
   "source": [
    "x=[1,2,3,4,5,6,7]"
   ]
  },
  {
   "cell_type": "code",
   "execution_count": 50,
   "metadata": {},
   "outputs": [
    {
     "name": "stdout",
     "output_type": "stream",
     "text": [
      "[['1', '10', '10', '10', '10', '10', '9', '22'], ['7', '10', '10', '10', '10', '10', '10', '30'], ['13', '10', '10', '10', '10', '10', '8', '28'], ['19', '10', '10', '10', '10', '10', '10', '25'], ['25', '10', '8', '10', '7', '8', '7', '25'], ['31', '10', '10', '10', '7', '7', '4', '22'], ['37', '10', '10', '9', '7', '6', '6', '23'], ['43', '9', '8', '6', '6', '7', '6', '28'], ['49', '9', '7', '10', '7', '4', '8', '22'], ['55', '10', '10', '10', '9', '5', '6', '25'], ['61', '10', '10', '10', '10', '10', '10', '25'], ['67', '10', '10', '10', '10', '10', '10', '30'], ['73', '10', '10', '10', '10', '10', '8', '28'], ['79', '10', '10', '10', '10', '10', '10', '38'], ['85', '10', '10', '10', '10', '10', '5', '31'], ['91', '10', '10', '10', '7', '1', '6', '26'], ['97', '10', '10', '10', '9', '7', '5', '29'], ['103', '0', '0', '10', '10', '10', '9', '24'], ['109', '10', '10', '10', '9', '5', '7', '26'], ['115', '10', '10', '10', '10', '7', '8', '31'], ['121', '10', '10', '10', '10', '10', '9', '35']]\n"
     ]
    }
   ],
   "source": [
    "la=[]\n",
    "lb=[]\n",
    "lc=[]\n",
    "ld=[]\n",
    "le=[]\n",
    "lf=[]\n",
    "for i in range(len(label)):\n",
    "    temp=[]\n",
    "    if label[i]=='A':\n",
    "        temp.append(sno[i])\n",
    "        temp.append(ass1[i])\n",
    "        temp.append(ass2[i])\n",
    "        temp.append(ass3[i])\n",
    "        temp.append(ass4[i])\n",
    "        temp.append(ass5[i])\n",
    "        temp.append(ass6[i])\n",
    "        temp.append(ass7[i])\n",
    "        la.append(temp)\n",
    "    if label[i]=='B':\n",
    "        temp.append(sno[i])\n",
    "        temp.append(ass1[i])\n",
    "        temp.append(ass2[i])\n",
    "        temp.append(ass3[i])\n",
    "        temp.append(ass4[i])\n",
    "        temp.append(ass5[i])\n",
    "        temp.append(ass6[i])\n",
    "        temp.append(ass7[i])\n",
    "        lb.append(temp)\n",
    "    if label[i]=='C':\n",
    "        temp.append(sno[i])\n",
    "        temp.append(ass1[i])\n",
    "        temp.append(ass2[i])\n",
    "        temp.append(ass3[i])\n",
    "        temp.append(ass4[i])\n",
    "        temp.append(ass5[i])\n",
    "        temp.append(ass6[i])\n",
    "        temp.append(ass7[i])\n",
    "        lc.append(temp)\n",
    "    if label[i]=='D':\n",
    "        temp.append(sno[i])\n",
    "        temp.append(ass1[i])\n",
    "        temp.append(ass2[i])\n",
    "        temp.append(ass3[i])\n",
    "        temp.append(ass4[i])\n",
    "        temp.append(ass5[i])\n",
    "        temp.append(ass6[i])\n",
    "        temp.append(ass7[i])\n",
    "        ld.append(temp)\n",
    "    if label[i]=='E':\n",
    "        temp.append(sno[i])\n",
    "        temp.append(ass1[i])\n",
    "        temp.append(ass2[i])\n",
    "        temp.append(ass3[i])\n",
    "        temp.append(ass4[i])\n",
    "        temp.append(ass5[i])\n",
    "        temp.append(ass6[i])\n",
    "        temp.append(ass7[i])\n",
    "        le.append(temp)\n",
    "    if label[i]=='F':\n",
    "        temp.append(sno[i])\n",
    "        temp.append(ass1[i])\n",
    "        temp.append(ass2[i])\n",
    "        temp.append(ass3[i])\n",
    "        temp.append(ass4[i])\n",
    "        temp.append(ass5[i])\n",
    "        temp.append(ass6[i])\n",
    "        temp.append(ass7[i])\n",
    "        lf.append(temp)\n",
    "print (la)"
   ]
  },
  {
   "cell_type": "code",
   "execution_count": 61,
   "metadata": {},
   "outputs": [
    {
     "ename": "IndexError",
     "evalue": "list index out of range",
     "output_type": "error",
     "traceback": [
      "\u001b[1;31m---------------------------------------------------------------------------\u001b[0m",
      "\u001b[1;31mIndexError\u001b[0m                                Traceback (most recent call last)",
      "\u001b[1;32m<ipython-input-61-b285b47ab9ad>\u001b[0m in \u001b[0;36m<module>\u001b[1;34m\u001b[0m\n\u001b[0;32m      3\u001b[0m \u001b[1;33m\u001b[0m\u001b[0m\n\u001b[0;32m      4\u001b[0m \u001b[1;32mfor\u001b[0m \u001b[0mi\u001b[0m \u001b[1;32min\u001b[0m \u001b[0mrange\u001b[0m \u001b[1;33m(\u001b[0m\u001b[0mlen\u001b[0m\u001b[1;33m(\u001b[0m\u001b[0mla\u001b[0m\u001b[1;33m)\u001b[0m\u001b[1;33m)\u001b[0m\u001b[1;33m:\u001b[0m\u001b[1;33m\u001b[0m\u001b[1;33m\u001b[0m\u001b[0m\n\u001b[1;32m----> 5\u001b[1;33m     \u001b[0mplt\u001b[0m\u001b[1;33m.\u001b[0m\u001b[0mplot\u001b[0m\u001b[1;33m(\u001b[0m\u001b[0mx\u001b[0m\u001b[1;33m,\u001b[0m\u001b[0mla\u001b[0m\u001b[1;33m[\u001b[0m\u001b[0mi\u001b[0m\u001b[1;33m]\u001b[0m\u001b[1;33m[\u001b[0m\u001b[1;36m1\u001b[0m\u001b[1;33m:\u001b[0m\u001b[1;33m]\u001b[0m\u001b[1;33m,\u001b[0m\u001b[0mc\u001b[0m\u001b[1;33m[\u001b[0m\u001b[0mi\u001b[0m\u001b[1;33m]\u001b[0m\u001b[1;33m)\u001b[0m\u001b[1;33m\u001b[0m\u001b[1;33m\u001b[0m\u001b[0m\n\u001b[0m\u001b[0;32m      6\u001b[0m     \u001b[1;32mif\u001b[0m \u001b[0mi\u001b[0m\u001b[1;33m==\u001b[0m\u001b[1;36m0\u001b[0m\u001b[1;33m:\u001b[0m\u001b[1;33m\u001b[0m\u001b[1;33m\u001b[0m\u001b[0m\n\u001b[0;32m      7\u001b[0m         \u001b[0mplt\u001b[0m\u001b[1;33m.\u001b[0m\u001b[0maxis\u001b[0m\u001b[1;33m(\u001b[0m\u001b[1;33m[\u001b[0m\u001b[1;36m1\u001b[0m\u001b[1;33m,\u001b[0m\u001b[1;36m7\u001b[0m\u001b[1;33m,\u001b[0m\u001b[1;36m0\u001b[0m\u001b[1;33m,\u001b[0m\u001b[1;36m35\u001b[0m\u001b[1;33m]\u001b[0m\u001b[1;33m)\u001b[0m\u001b[1;33m\u001b[0m\u001b[1;33m\u001b[0m\u001b[0m\n",
      "\u001b[1;31mIndexError\u001b[0m: list index out of range"
     ]
    },
    {
     "data": {
      "image/png": "[encoded data removed]",
      "text/plain": [
       "<Figure size 432x288 with 1 Axes>"
      ]
     },
     "metadata": {
      "needs_background": "light"
     },
     "output_type": "display_data"
    }
   ],
   "source": [
    "#plt.subplot(6,1,1)\n",
    "c=['r','b','g','y','c','m','k','w']\n",
    "\n",
    "for i in range (len(la)):\n",
    "    plt.plot(x,la[i][1:],c[i])\n",
    "    if i==0:\n",
    "        plt.axis([1,7,0,35])\n",
    "\n",
    "plt.show()"
   ]
  },
  {
   "cell_type": "code",
   "execution_count": null,
   "metadata": {},
   "outputs": [],
   "source": []
  }
 ],
 "metadata": {
  "kernelspec": {
   "display_name": "Python 3",
   "language": "python",
   "name": "python3"
  },
  "language_info": {
   "codemirror_mode": {
    "name": "ipython",
    "version": 3
   },
   "file_extension": ".py",
   "mimetype": "text/x-python",
   "name": "python",
   "nbconvert_exporter": "python",
   "pygments_lexer": "ipython3",
   "version": "3.7.3"
  }
 },
 "nbformat": 4,
 "nbformat_minor": 2
}
